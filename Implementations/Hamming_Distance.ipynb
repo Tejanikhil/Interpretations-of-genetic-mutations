{
 "cells": [
  {
   "cell_type": "code",
   "execution_count": 1,
   "metadata": {},
   "outputs": [],
   "source": [
    "import warnings\n",
    "warnings.filterwarnings(\"ignore\")"
   ]
  },
  {
   "cell_type": "code",
   "execution_count": 2,
   "metadata": {},
   "outputs": [],
   "source": [
    "import pandas as pd\n",
    "import seaborn as sns\n",
    "import matplotlib.pyplot as plt"
   ]
  },
  {
   "cell_type": "code",
   "execution_count": 3,
   "metadata": {},
   "outputs": [],
   "source": [
    "def remove(Sequence,CharacterArrays):\n",
    "    NewSequence = ''.join((filter(lambda i: i not in CharacterArrays, Sequence)))\n",
    "    return NewSequence"
   ]
  },
  {
   "cell_type": "code",
   "execution_count": 4,
   "metadata": {},
   "outputs": [],
   "source": [
    "Human_sequence_path = r\"C:\\Users\\Teja Nikhil\\OneDrive\\Desktop\\ASSIGNMENTS AND PROJECTS\\SEM-2\\Semester-2 EndSem Projects\\Bio Endsem\\HumanGenome1.txt\"\n",
    "UnWantedCharacters = ['\\n', 'n','1','2','3','4','5','6','7','8','9','0', ' ']\n",
    "File2 =  open(Human_sequence_path,'r')\n",
    "ActualSequence = File2.read()\n",
    "ActualSequence = remove(ActualSequence,UnWantedCharacters)"
   ]
  },
  {
   "cell_type": "code",
   "execution_count": 5,
   "metadata": {},
   "outputs": [],
   "source": [
    "TP53_sequence_path = r\"C:\\Users\\Teja Nikhil\\OneDrive\\Desktop\\ASSIGNMENTS AND PROJECTS\\SEM-2\\Semester-2 EndSem Projects\\Bio Endsem\\TP531.txt\"\n",
    "UnWantedCharacters = ['\\n', 'n','1','2','3','4','5','6','7','8','9','0', '']\n",
    "File1 =  open(TP53_sequence_path,'r')\n",
    "ReferenceSequence = File1.read()\n",
    "ReferenceSequence = remove(ReferenceSequence,UnWantedCharacters)"
   ]
  },
  {
   "cell_type": "code",
   "execution_count": 6,
   "metadata": {},
   "outputs": [
    {
     "data": {
      "text/plain": [
       "10001"
      ]
     },
     "execution_count": 6,
     "metadata": {},
     "output_type": "execute_result"
    }
   ],
   "source": [
    "len(ActualSequence)"
   ]
  },
  {
   "cell_type": "code",
   "execution_count": 7,
   "metadata": {},
   "outputs": [
    {
     "data": {
      "text/plain": [
       "6001"
      ]
     },
     "execution_count": 7,
     "metadata": {},
     "output_type": "execute_result"
    }
   ],
   "source": [
    "len(ReferenceSequence)"
   ]
  },
  {
   "cell_type": "markdown",
   "metadata": {},
   "source": [
    "## Identifying the start and stop codon"
   ]
  },
  {
   "cell_type": "code",
   "execution_count": 8,
   "metadata": {},
   "outputs": [],
   "source": [
    "def KMPSearch(pat, txt, type_codon):\n",
    "    M = len(pat)\n",
    "    N = len(txt)\n",
    "    indices = []\n",
    "    lps = [0]*M\n",
    "    j = 0 \n",
    "\n",
    "    computeLPSArray(pat, M, lps)\n",
    "\n",
    "    i = 0 \n",
    "    while i < N:\n",
    "        if pat[j] == txt[i]:\n",
    "            i += 1\n",
    "            j += 1\n",
    "\n",
    "        if j == M:\n",
    "            indices.append(i-j)\n",
    "            # print(f\"Found {type_codon} at index {(i-j)}\")\n",
    "            j = lps[j-1]\n",
    "\n",
    "        elif i < N and pat[j] != txt[i]:\n",
    "            if j != 0:\n",
    "                j = lps[j-1]\n",
    "            else:\n",
    "                i += 1\n",
    "    return indices\n",
    "\n",
    "def computeLPSArray(pat, M, lps):\n",
    "    len = 0 \n",
    "    lps[0] \n",
    "    i = 1\n",
    "\n",
    "    while i < M:\n",
    "        if pat[i]== pat[len]:\n",
    "            len += 1\n",
    "            lps[i] = len\n",
    "            i += 1\n",
    "        else:\n",
    "\n",
    "            if len != 0:\n",
    "                len = lps[len-1]\n",
    "            else:\n",
    "                lps[i] = 0\n",
    "                i += 1"
   ]
  },
  {
   "cell_type": "code",
   "execution_count": 14,
   "metadata": {},
   "outputs": [],
   "source": [
    "Sequence = ActualSequence\n",
    "Start_codon_pattern = \"ATG\"\n",
    "start_indices = KMPSearch(Start_codon_pattern, Sequence, \"ATG(StartCodon)\")"
   ]
  },
  {
   "cell_type": "code",
   "execution_count": 15,
   "metadata": {},
   "outputs": [
    {
     "name": "stdout",
     "output_type": "stream",
     "text": [
      "[3, 16, 70, 87, 119, 173, 177, 212, 240, 311, 611, 674, 683, 687, 733, 762, 774, 805, 981, 993, 1060, 1209, 1271, 1308, 1331, 1336, 1385, 1424, 1430, 1439, 1522, 1557, 1580, 1676, 1725, 2028, 2077, 2127, 2153, 2176, 2194, 2210, 2288, 2459, 2552, 2565, 2572, 2606, 2742, 2850, 2937, 3030, 3114, 3152, 3183, 3216, 3246, 3295, 3420, 3425, 3516, 3575, 3642, 3709, 3724, 3730, 3792, 3815, 3862, 3929, 3979, 4012, 4093, 4120, 4147, 4204, 4221, 4286, 4301, 4322, 4348, 4423, 4531, 4544, 4575, 4593, 4601, 4629, 4647, 4674, 4706, 4897, 4903, 4967, 4988, 5006, 5016, 5034, 5042, 5059, 5063, 5066, 5111, 5123, 5153, 5163, 5248, 5265, 5284, 5301, 5316, 5327, 5428, 5440, 5447, 5543, 5566, 5581, 5612, 5634, 5664, 5671, 5701, 5728, 5734, 5761, 5820, 5828, 5904, 5976, 6048, 6070, 6092, 6182, 6272, 6298, 6310, 6331, 6341, 6570, 6658, 6665, 6737, 6845, 6866, 6891, 7114, 7238, 7262, 7385, 7390, 7395, 7402, 7437, 7505, 7595, 7868, 7943, 8057, 8066, 8075, 8096, 8132, 8238, 8313, 8432, 8455, 8550, 8567, 8601, 8642, 8705, 8716, 8727, 8786, 8797, 8829, 8905, 8947, 8985, 9254, 9316, 9359, 9381, 9451, 9461, 9607, 9661, 9683, 9724, 9796, 9857, 9872, 9880, 9896, 9900, 9970]\n"
     ]
    }
   ],
   "source": [
    "print(start_indices)"
   ]
  },
  {
   "cell_type": "code",
   "execution_count": 17,
   "metadata": {},
   "outputs": [],
   "source": [
    "def replace(String, Position, Character):\n",
    "    NewString = \"\"\n",
    "    n = len(String)\n",
    "    for i in range(n):\n",
    "        if i!=Position:\n",
    "            NewString = NewString + String[i]\n",
    "        if i==Position:\n",
    "            NewString = NewString + Character\n",
    "    return NewString"
   ]
  },
  {
   "cell_type": "code",
   "execution_count": 18,
   "metadata": {},
   "outputs": [
    {
     "data": {
      "text/plain": [
       "6001"
      ]
     },
     "execution_count": 18,
     "metadata": {},
     "output_type": "execute_result"
    }
   ],
   "source": [
    "ReferenceSequence1 = replace(ReferenceSequence,4000,'A')\n",
    "ReferenceSequence1 = replace(ReferenceSequence1,5000,'T')\n",
    "ReferenceSequence1 = replace(ReferenceSequence1,5010,'G')\n",
    "ReferenceSequence1 = replace(ReferenceSequence1,5020,'C')\n",
    "len(ReferenceSequence1)"
   ]
  },
  {
   "cell_type": "code",
   "execution_count": 20,
   "metadata": {},
   "outputs": [],
   "source": [
    "Genome_Before_Mutation = ReferenceSequence\n",
    "Genome_After_Mutation = ReferenceSequence1"
   ]
  },
  {
   "cell_type": "markdown",
   "metadata": {},
   "source": [
    "### As it is known that the mutations in the TP53 gene is mostly missense (Substitutions)"
   ]
  },
  {
   "cell_type": "markdown",
   "metadata": {},
   "source": [
    "## Extraction of Coding Gene from the whole Sequence"
   ]
  },
  {
   "cell_type": "code",
   "execution_count": 21,
   "metadata": {},
   "outputs": [
    {
     "name": "stdout",
     "output_type": "stream",
     "text": [
      "ATGGGCAAAAACTGGACGCATTCCCTTTGAAAACCAGCACAAGACAAGGATGCCCTCTCTCACCACTCCTATTAAACATAGTATCGGAGGTTCTGGCCAGGGCAATCAGGCAAGAGAAAGCAATAATAGATACTCAAATAGGAAGAGAGGAAGTGAAGTTGTCTCTGTTTGCTGATGACATGATCGTATATTTAGAAAACCCCATCGTCTCAGCCCAAAATCTCCTTAAGCTGATAAGCAACTTCAGCAAAGTCTCAGGATACAAAATCAATGTGCAAAAATCACAAGCATTCCTATACACTAATAACAGACAAACAAAGAGCCAAATCATGAGTGAACTCCCATTCACAACTGCTACTAAGAGAATAAAATACCTAGGAATCTAACTTACAAGGGATGTGAAGGACCTCTTCAAGGAGAACTACAAACCACTGATCAACGAAATAAAAGAAGACACAAACAAATGGAAGAACATTCCATGCTCATGGATAGGAAGAATCAGTATCGTGAAAATAGCCATACTGCCCAAGGTAATTTATAGATTCAATGCTATCCCCATCAAGCTACCAATGACTCTACACAGAGTTGGAAAAAAAAAAACTACTTTAAAGTTCATATGGAACCAAAAAAGAGCCCGCATAGCCAAGACAATCCTGGGCAAGAAGAATAAAGCTGGAGGCATCATGCTACCTGACTTCAAACTTTACTACAAGGCTACAGTAACCAAAACACCATGGTACTGGTACCAAAACAGATATATAGACCAATGGAACAGAACGGAGGCCTCAGAAATAACACTACACATCTACCACCATCTGATCTTTGACAAACCTGACAAAAACAAGCAATGGGGAAAGGATTCCCTATTTAATAAATGGTATTGGGAAAATTGGCTACCCATATGCAGAAAACTGAAACTGGACCCCTTCCTTACACCTTATACAAAAATCAACTCAAGATGGATCAAACACTTAAATGTAAGACCTAGGACCATAAAAATCCTAGAAGAAAACCTAGGCAATACCATTCAGGACATAGGCATGGGCAAAGACTTCATGTCTAAAACACCAAAAGCAATGGCAACAAAATCCAAAATTGACAAATGGGATCTAATTAAACTAAAGAGCTTCTGCACAGCAAAAGAAACTCTCATCAGAGTGAACAGGCAACCTACAGAATGGGAGAAAAATTTTGCAATTAATCCATCTGACAAAGGGCTAATATCCAGAATCTACAAAGAACTTAAACAAATTTACAAGAAAAAAGCAAACAATCCCATCAAAAAATGGGCAAAGGGTATGAACAGACCCTTCTCAAAAGAAGATATTTATGCAGCAAAGCAGACATATGAAACAATGCTCATCATCACTGATCATTAGAGAAATGCAAATCAAAACCACAATGAGATACCATCTCACACCAGTTAGAATGGCAATTATTAAAAAGTCAGGAAACAACAGATGCTGGAGAGGTTGTGGAAAAATAGAAACCCTTTTACACTGTTGGTGGGAGGGTAAATTACTTCAATCATTGCCTCGAAGACAGTGTGGCAATTCCTCAAGGATCTAGAACTAGAAATACCATTTGACCCAGCAATCCCATTACTGGGCATATACCCAAAGGATTGTAAATCATTGTACAATAAAGACACATGCACATGTACGTTTATTGCGGCACTATTCTCAATAGCAAAGACTTGGAACTAACCCAAATATCCATCAATGATAGACTGGATTGAGAAAATGTGGCACATATACACCATGGAATACTATGCAGTCATAAAAAACGATGAGTTTATGTCCTTTGCAGGGACATGGATGATGCTGGAAACCATCATTCTCAGCAAACTATCACAAGATCAGAAAATGAAACACTGCATGTTCTCACTCATCAGTGGGAGTTGAACAATGAGAAAACATGGACACAGGGAGGGGATCATCACATACCAGGACCTGTGGGGGGTTGGGGGCAAGGGGAGGGATAACATTAGCAGAAATACCTAATGTGGGTGACAGGTTGATGGGTGCAGCAAACCACCATGACGTGTGTATACCTATGTAACATAACTGCATGTTCTGCACATGTAACCCAGAACTTAAAGTATAATAATAATTTTTAAAAAGAATAAAAAAAGAGAGTTTCCTTCTCCCTTCTGTCCCTTCTGCCACGTGAGGACACTAAGATGGTGCCACCTATGAGAAATGAGCCCTCACCTGACACGGCATCTGCCAGCAATTTGATCTTGGACTCCCCAGCCTCAAGAACTGTGAAAAAAAAAAAATCCCTGTTGTTTATACATGACCAAATCTCAGATACAGTCATGTGCTTCATAGCAATGTTTTGGTCAAAGACTAACTGCATATAGGATGGTGATCCCATCAGATTATAATGGAGCTGAAAAATTTCTATTGCCTAGTAATGTGTAATGGTCTTGACTCTGCACAGACCTAGGCTAATGTGTGTGTTTGTGTCTTAGTTTTTAATGAAAATGTTTAAAAAATAGAAAATTTTTAAAATGAAGAAAGCTTATAGAATAAGTATATAAAGAAATAAAATATTTGTGTACTGTATACAATGTGTTTATGTTTTAAGCAAAGTGTTATTACAAGAGTCAATAACAAATTAAAATTTTATAAAGTAAAAAATTATAGTAAGGTAATGTTAATTTATTGAAGAAAAAGTTTTTAAAATAAATTTAGTGTAGTCTAAAGTTTGCAGTAGGATATAGTAATGTTCTAGGTCTTCACATTGGCTCTCTGACTGACTCACCCGAAGCAACTTCCAGTCTTAAAAGCTCTATTCATGGTAAGTGCCCTATACACATATGCCAGTTTTTAAAATCTTTCATGCCATATTTTTACTGTATCTTTGCTAGGTTTAGATACACAAACACTTATCATTGTGTTACAATTGACTACAGTATTCAGTACAGTAACATGCTGCCCAGGTTTGTAGCCTAGGAGCAATAGGCTACACCATATATCTAGCCCAGGCTATAAGGTTTAAGTTTGTGTTAGTACACTTCGATGATCACATAACAAAATTGCTTGACATGTTTCTCAGAATGTATCCCTGTCATTAAGCAATGTGTGAGAATGTTTTGTTATAGCAGCATAAACAGACTAAGACAACCCACTTCCCCTAGTAAAGGGTCCTATTGCTTACTGCTAAGTAGAGGCTCTGAGTCCATCTTATTTTACCAGCTACAGCAGACAAGTTACAAAAGAGTAAAAAAATAAAAATAAAAAAATAGGATTCTCAAAATACTTAAGTCCTTTGCTTCTCTAAACTTTCATACAATTTAGCTGTTTCCTTGACCCATATATGAACCCTGCCTTGGAGTCGAAATAAGAGAAGAAATACTACTAACAAGAGCATTGCAATTTTGAAAGCCACTAAAAAGAATATTACAATGTTAAATGCCAATAACAAGAGCATTGCAATTTTAAAATCTCTTCACAACCATTTAAAGACAATTCTGTTAAAACATCATGTAAAAAGCTTCGGTTGTGAAAAAAACTGTCTCAATTGCTAGTATCTTTATAATCAAATTCAAACCTTATTCTTGGGACCTCATAACTATTTATATATTGGTACCTATGAATATTTGGAAAACATATATGTATTCTCTTACTTTTCAATTAAATGATACAGTTATTTTAAAGATTGTGTCAAAAGTCTGCCTTTTATAATATAGGGACTCTATACTTTGAAGGGCCTTTCCATTATAACACTAGTAGAGCCCACATAAAACATTTTTTTTTTATTGCTGAACTTGCAGGAAATAAAGAAACTCATTCTTAAAAAAGTGAGCTTCCAGCAGTGATCTTGGTAAGCACAAAGGAAAATCAAGGTTTCCCTGAGGACAATGAAATATTAGTACTAAAGTTGGAGATTAAGCCTTCAGACAAGAAGAAGAAGATTTATTAAAGACTGGCACATTAAACTGGACTCCAAAAAATTATTCACAAATTAAGATTAACTGAATACACATGAAAATTAAGAAACAAGCCATCATGAATAAAAGTCAGTGGAAATAACAAACTGCAGAAACAGATCACTAAGAATTCCAGATAGTGGAAGAATCCATTTCAGAACAGAAAATAGCTAAGTGTAAAATATTTAAAGACATTTTTTAAATGAAATGACATGAAGTATGAAAACGTAACAAGCAGCCTGTGACCATCAAAAATGATCAGGTAGATTTGGATTAGTGACTGCATAAAACCTTAAGAAAGAAACAAAAAAATAGACCAGGCATGGTGGCTCACACCTGTAATCCCAGCATTTTGGGAGGCTGAGGCAGGCGGATCACCTGAGGTCAGGAGTTTGAGACCAGCCTTGGCAACATGGCGAAACCCTATCTCTATTAAAAATATAAAAAAATTAACCAGGCGTGGTGGCTGACACCTGTAATCCCAGCTGCTCCGGAGGCTGAGGCAAGAGAATCGCTAGAACCCAGGAATCGGAGGTTGCAGTGAGCTGAGGTTGTGCCACTGCACTCCAGCCTGGGCAACAGCGTGGGACTCTATCTTAAAAAAAAAAAAAAAAAAAAAAAAAAAAGAGAGAGAAAAAAAGGAAAAATACAAAAAATAAAATTGTTGAAAGCACAAGCTCAGTGGATGCATTAAACAGAAAATTAGAAACAGATAAATAAAAAAACAAATTGGCAGATTGCTCTGAAAAAATTACATAGAATGCAACGTTTGAGAACAAAAGGGTAGGAAAAAATCTCAGAGCTTTTTTGCCTCACCTGTGAGGAACTAAAATACCTGCCCTATCTTCTTTCCTTGGCCACTAGATTCTACTTCATGAGAATAATGCAAGGTATGTGTGATAATAACCTGTAAATGGAAGCCACTATTACATATCAACAGGTATAATCCATGAGACTGCCGTGGTTTCTTTCCAACTCTTCTCCTCGGGCTACTCTTGTCTAACTTATTTTTCTCAAAACCATTCTTGTTTCTTATACCCTGATTTCTCTTGGAGATGAATTTTGGGAGACAAGATAAATACACACTGTGATTTGACCCTTCCCAACCTCCTTAGGATCAGCTGAGGCAGATGTTTTTCAGGGGTGGACTGGACAAGCACAGAGGTTAGAGGCGCTCAGTTTAGAGAAGTCCCCTTGACTTGGGTGGATTGGGGTGCACAACCATCTTACATTAAGCGTCAGGGGTCACATGAGCTAGGGATTGCCACGAATATGGGCTCTCTACTTAGACACAGCAGGTAACACGCAGTGGCTGTCCAGAGGCAACATCAGCCCCGCATCCACCAGGACTCAGCTTCACAGATCTTATGGTTTGCAAAAGGTGATGAAAATCTGAAAACCAATAGAATCTAACCATTATGGGAGAAACATTCTACTCCAGAAGAGGCCTCAGCGGTGAATGGAAGGATATTTATTGGCATCTTTCAGAGTAATAGTGTGTAACTCAAATACTGTGTCTTGGATGACAGAACAATGATCCCACCATGACTCTTGTAATTGTAGTAGTACTGTGCATTGGAAACATTGTAATTGTAGCAGTATTATGTATTAGAGATGAATTTCAGCGGTGTGGAGGGCGGGATAGAATGTTGTGGCTAATACAGTGTACTTTAAAGCAGTGGTTCTTTATTAGGGCTGCACAGATTGCTTTAAAAAGTATTGATGTCCTGGTCTTACCCCAGAGATTCAAATTGTCTGGGGTGAATGAGGATCAGGATTTTTAAAGCTTCCCACAGGACTCCATGTGTAGCCTAGGCTGAGAACCACTGACTAGTCATTCTCAAACTCTAGCTTACATCCATATTACCAACACAATTTGAATTCTAGGTTCTCAAAATCTGGTCCCTGTTGTAGCGACATCAACATCACGTGGAAACTTGTTAGAAATACAGAATTACAGGTGGCTTGCAGCCCTATTGAATCAGAAATTCTAGGGATAAGGCCCAGAAAATTCTATCCTACTAAGCCCTTCAGTCTTACACAGACCAAACTTTGAGAACTCCT\n"
     ]
    }
   ],
   "source": [
    "def extract_sequence(human_gene,mutated_gene, start_indices):\n",
    "    n = len(human_gene)\n",
    "    r = len(mutated_gene)\n",
    "    min_dist = r\n",
    "    p = 0\n",
    "    \n",
    "    for i in start_indices:  # i = 0 to x-1\n",
    "        distance = 0\n",
    "        if(i+r <= n):\n",
    "            for j in range(r):  # j = 0 to r-1\n",
    "                if human_gene[j+i] != mutated_gene[j]:\n",
    "                    distance = distance+1\n",
    "            if distance < min_dist:\n",
    "                    min_dist = distance\n",
    "                    p=i\n",
    "                    \n",
    "    return min_dist,human_gene[p:p+r]\n",
    "\n",
    "C, Gene_After_Mutation = extract_sequence(ActualSequence, ReferenceSequence, start_indices)\n",
    "print(Gene_After_Mutation)"
   ]
  },
  {
   "cell_type": "code",
   "execution_count": 26,
   "metadata": {},
   "outputs": [
    {
     "name": "stdout",
     "output_type": "stream",
     "text": [
      "Mutation detected at index position4000\n",
      "Mutation detected at index position5000\n",
      "Mutation detected at index position5010\n",
      "Mutation detected at index position5020\n",
      "Number of mutations in the genome: 4\n",
      "Percentage of mutations: 0.06665555740709882\n"
     ]
    }
   ],
   "source": [
    "def Hamming_distance(human_gene,mutated_gene):\n",
    "    n = len(human_gene)\n",
    "    r = len(mutated_gene)\n",
    "    hamming_distance = 0\n",
    "    indexes = []\n",
    "    \n",
    "    for i in range(0,n):\n",
    "        if(human_gene[i]!=mutated_gene[i]):\n",
    "            hamming_distance = hamming_distance + 1\n",
    "            indexes.append(i)\n",
    "            print(f\"Mutation detected at index position{i}\")\n",
    "            \n",
    "    return hamming_distance\n",
    "\n",
    "distance = Hamming_distance(Genome_Before_Mutation, Genome_After_Mutation)\n",
    "print(\"Number of mutations in the genome: \" + str(distance))\n",
    "print(f\"Percentage of mutations: {distance*100/len(Genome_Before_Mutation)}\")"
   ]
  }
 ],
 "metadata": {
  "kernelspec": {
   "display_name": "Python 3",
   "language": "python",
   "name": "python3"
  },
  "language_info": {
   "codemirror_mode": {
    "name": "ipython",
    "version": 3
   },
   "file_extension": ".py",
   "mimetype": "text/x-python",
   "name": "python",
   "nbconvert_exporter": "python",
   "pygments_lexer": "ipython3",
   "version": "3.8.5"
  }
 },
 "nbformat": 4,
 "nbformat_minor": 4
}
