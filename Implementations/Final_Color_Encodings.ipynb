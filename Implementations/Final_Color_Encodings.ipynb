{
 "cells": [
  {
   "cell_type": "code",
   "execution_count": 3,
   "metadata": {},
   "outputs": [],
   "source": [
    "import cv2\n",
    "import numpy as np\n",
    "import warnings\n",
    "import matplotlib.pyplot as plt\n",
    "warnings.filterwarnings('ignore')"
   ]
  },
  {
   "cell_type": "code",
   "execution_count": 4,
   "metadata": {},
   "outputs": [],
   "source": [
    "def remove(Sequence,CharacterArrays):\n",
    "    NewSequence = ''.join((filter(lambda i: i not in CharacterArrays, Sequence)))\n",
    "    return NewSequence"
   ]
  },
  {
   "cell_type": "code",
   "execution_count": null,
   "metadata": {},
   "outputs": [],
   "source": [
    "TP53_sequence_path = r\"/home/teja/Referencegene\"\n",
    "UnWantedCharacters = ['\\n', 'n','1','2','3','4','5','6','7','8','9','0', '']\n",
    "File1 =  open(TP53_sequence_path,'r')\n",
    "ReferenceSequence = File1.read()\n",
    "ReferenceSequence = remove(ReferenceSequence,UnWantedCharacters)"
   ]
  },
  {
   "cell_type": "code",
   "execution_count": 28,
   "metadata": {},
   "outputs": [],
   "source": [
    "ReferenceSequence = \"CTCAAAAGTCTAGAGCCACCGTCCAGGGAGCAGGTAGCTGCTGGGCTCCGGGGACACTTTGCGTTCGGGCTGGGAGCGTGCTTTCCACGACGGTGACACGCTTCCCTGGATTGGGTAAGCTCCTGACTGAACTTGATGAGTCCTCTCTGAGTCACGGGCTCTCGGCTCCGTGTATTTTCAGCTCGGGAAAATCGCTGGGGCTGGGGGTGGGGCAGTGGGGACTTAGCGAGTTTGGGGGTGAGTGGGATGGAAGCTTGGCTAGAGGGATCATCATAGGAGTTGCATTGTTGGGAGACCTGGGTGTAGATGATGGGGATGTTAGGACCATCCGAACTCAAAGTTGAACGCCTAGGCAGAGGAGTGGAGCTTTGGGGAACCTTGAGCCGGCCTAAAGCGTACTTCTTTGCACATCCACCCGGT\""
   ]
  },
  {
   "cell_type": "code",
   "execution_count": 29,
   "metadata": {},
   "outputs": [
    {
     "data": {
      "text/plain": [
       "420"
      ]
     },
     "execution_count": 29,
     "metadata": {},
     "output_type": "execute_result"
    }
   ],
   "source": [
    "len(ReferenceSequence)"
   ]
  },
  {
   "cell_type": "code",
   "execution_count": 30,
   "metadata": {},
   "outputs": [
    {
     "ename": "FileNotFoundError",
     "evalue": "[Errno 2] No such file or directory: '/home/teja/Mutated_gene'",
     "output_type": "error",
     "traceback": [
      "\u001b[1;31m---------------------------------------------------------------------------\u001b[0m",
      "\u001b[1;31mFileNotFoundError\u001b[0m                         Traceback (most recent call last)",
      "\u001b[1;32m<ipython-input-30-d487971e0879>\u001b[0m in \u001b[0;36m<module>\u001b[1;34m\u001b[0m\n\u001b[0;32m      1\u001b[0m \u001b[0mmutated_TP53_sequence_path\u001b[0m \u001b[1;33m=\u001b[0m \u001b[1;34mr\"/home/teja/Mutated_gene\"\u001b[0m\u001b[1;33m\u001b[0m\u001b[1;33m\u001b[0m\u001b[0m\n\u001b[0;32m      2\u001b[0m \u001b[0mUnWantedCharacters\u001b[0m \u001b[1;33m=\u001b[0m \u001b[1;33m[\u001b[0m\u001b[1;34m'\\n'\u001b[0m\u001b[1;33m,\u001b[0m \u001b[1;34m'n'\u001b[0m\u001b[1;33m,\u001b[0m\u001b[1;34m'1'\u001b[0m\u001b[1;33m,\u001b[0m\u001b[1;34m'2'\u001b[0m\u001b[1;33m,\u001b[0m\u001b[1;34m'3'\u001b[0m\u001b[1;33m,\u001b[0m\u001b[1;34m'4'\u001b[0m\u001b[1;33m,\u001b[0m\u001b[1;34m'5'\u001b[0m\u001b[1;33m,\u001b[0m\u001b[1;34m'6'\u001b[0m\u001b[1;33m,\u001b[0m\u001b[1;34m'7'\u001b[0m\u001b[1;33m,\u001b[0m\u001b[1;34m'8'\u001b[0m\u001b[1;33m,\u001b[0m\u001b[1;34m'9'\u001b[0m\u001b[1;33m,\u001b[0m\u001b[1;34m'0'\u001b[0m\u001b[1;33m,\u001b[0m \u001b[1;34m''\u001b[0m\u001b[1;33m]\u001b[0m\u001b[1;33m\u001b[0m\u001b[1;33m\u001b[0m\u001b[0m\n\u001b[1;32m----> 3\u001b[1;33m \u001b[0mFile2\u001b[0m \u001b[1;33m=\u001b[0m  \u001b[0mopen\u001b[0m\u001b[1;33m(\u001b[0m\u001b[0mmutated_TP53_sequence_path\u001b[0m\u001b[1;33m,\u001b[0m\u001b[1;34m'r'\u001b[0m\u001b[1;33m)\u001b[0m\u001b[1;33m\u001b[0m\u001b[1;33m\u001b[0m\u001b[0m\n\u001b[0m\u001b[0;32m      4\u001b[0m \u001b[0mMutatedSequence\u001b[0m \u001b[1;33m=\u001b[0m \u001b[0mFile2\u001b[0m\u001b[1;33m.\u001b[0m\u001b[0mread\u001b[0m\u001b[1;33m(\u001b[0m\u001b[1;33m)\u001b[0m\u001b[1;33m\u001b[0m\u001b[1;33m\u001b[0m\u001b[0m\n\u001b[0;32m      5\u001b[0m \u001b[0mMutatedSequence\u001b[0m \u001b[1;33m=\u001b[0m \u001b[0mremove\u001b[0m\u001b[1;33m(\u001b[0m\u001b[0mMutatedSequence\u001b[0m\u001b[1;33m,\u001b[0m\u001b[0mUnWantedCharacters\u001b[0m\u001b[1;33m)\u001b[0m\u001b[1;33m\u001b[0m\u001b[1;33m\u001b[0m\u001b[0m\n",
      "\u001b[1;31mFileNotFoundError\u001b[0m: [Errno 2] No such file or directory: '/home/teja/Mutated_gene'"
     ]
    }
   ],
   "source": [
    "mutated_TP53_sequence_path = r\"/home/teja/Mutated_gene\"\n",
    "UnWantedCharacters = ['\\n', 'n','1','2','3','4','5','6','7','8','9','0', '']\n",
    "File2 =  open(mutated_TP53_sequence_path,'r')\n",
    "MutatedSequence = File2.read()\n",
    "MutatedSequence = remove(MutatedSequence,UnWantedCharacters)"
   ]
  },
  {
   "cell_type": "code",
   "execution_count": 31,
   "metadata": {},
   "outputs": [],
   "source": [
    "MutatedSequence = \"CTCAAAAGTCTAGCGCCACCGTCCAGGGAGCAGGTAGCTGCTGGGCTCCGAGGACACTTTGCGTTCGGGCTGGGAGCGTGCTTCCACGACGGTGACACGCTTCCCTGGATTGGGTAAGCTCCTGACTCGAACTTGATGAGTCCTCTCTGAGTCACGGGCTCTCGGCTCCGTGTATTTTCAGCTCGGGAAAATCGCTGGGGCTGGGGGTGGGGCAGTGGGGACTTAGCGAGTTTGGGGGTGAGTGGGATGGAAGCTTGGCTAGAGGGATCATCATAGGAGTTGCATTGTTGGGAGACCTGGGTGTAGATGATGGGGATGTTAGGACCATCCGAACTCAAAGTTGAACGCCTAGGCAGAGGAGTGGAGCTTTGGGGAACCTTGAGCCGGCCTAAAGCGTACTTCTTTGCACATCCACCCGGT\""
   ]
  },
  {
   "cell_type": "code",
   "execution_count": 32,
   "metadata": {},
   "outputs": [
    {
     "data": {
      "text/plain": [
       "420"
      ]
     },
     "execution_count": 32,
     "metadata": {},
     "output_type": "execute_result"
    }
   ],
   "source": [
    "len(MutatedSequence)"
   ]
  },
  {
   "cell_type": "code",
   "execution_count": 33,
   "metadata": {},
   "outputs": [],
   "source": [
    "def convert_nD(arr):\n",
    "    arr = list(arr)\n",
    "    m = len(arr)\n",
    "    n = int(np.sqrt(m))\n",
    "    arr_new = [arr[n*i:n*(i+1)] for i in range(0,int(n))]    \n",
    "    #print(arr_new)\n",
    "    for x in range(0,n):\n",
    "        arr_new[x] = [np.array([0,128,0]) if i=='A' else i for i in arr_new[x]]\n",
    "        arr_new[x] = [np.array([255,0,0]) if i=='T' else i for i in arr_new[x]]\n",
    "        arr_new[x] = [np.array([255,165,0]) if i=='C' else i for i in arr_new[x]]\n",
    "        arr_new[x] = [np.array([1,0,255]) if i=='G' else i for i in arr_new[x]]\n",
    "    return arr_new"
   ]
  },
  {
   "cell_type": "code",
   "execution_count": 34,
   "metadata": {},
   "outputs": [],
   "source": [
    "def convert_split_A(arr):\n",
    "    arr = list(arr)\n",
    "    m = len(arr)\n",
    "    n = int(np.sqrt(m))\n",
    "    arr_new = [arr[n*i:n*(i+1)] for i in range(0,int(n))]    \n",
    "    #print(arr_new)\n",
    "    for x in range(0,n):\n",
    "        arr_new[x] = [np.array([0,128,0]) if i=='A' else i for i in arr_new[x]]\n",
    "        arr_new[x] = [np.array([0,0,0]) if i=='T' else i for i in arr_new[x]]\n",
    "        arr_new[x] = [np.array([0,0,0]) if i=='C' else i for i in arr_new[x]]\n",
    "        arr_new[x] = [np.array([0,0,0]) if i=='G' else i for i in arr_new[x]]\n",
    "    return arr_new\n",
    "def convert_split_T(arr):\n",
    "    arr = list(arr)\n",
    "    m = len(arr)\n",
    "    n = int(np.sqrt(m))\n",
    "    arr_new = [arr[n*i:n*(i+1)] for i in range(0,int(n))]    \n",
    "    #print(arr_new)\n",
    "    for x in range(0,n):\n",
    "        arr_new[x] = [np.array([0,0,0]) if i=='A' else i for i in arr_new[x]]\n",
    "        arr_new[x] = [np.array([255,0,0]) if i=='T' else i for i in arr_new[x]]\n",
    "        arr_new[x] = [np.array([0,0,0]) if i=='C' else i for i in arr_new[x]]\n",
    "        arr_new[x] = [np.array([0,0,0]) if i=='G' else i for i in arr_new[x]]\n",
    "    return arr_new\n",
    "def convert_split_C(arr):\n",
    "    arr = list(arr)\n",
    "    m = len(arr)\n",
    "    n = int(np.sqrt(m))\n",
    "    arr_new = [arr[n*i:n*(i+1)] for i in range(0,int(n))]    \n",
    "    #print(arr_new)\n",
    "    for x in range(0,n):\n",
    "        arr_new[x] = [np.array([0,0,0]) if i=='A' else i for i in arr_new[x]]\n",
    "        arr_new[x] = [np.array([0,0,0]) if i=='T' else i for i in arr_new[x]]\n",
    "        arr_new[x] = [np.array([255,165,0]) if i=='C' else i for i in arr_new[x]]\n",
    "        arr_new[x] = [np.array([0,0,0]) if i=='G' else i for i in arr_new[x]]\n",
    "    return arr_new\n",
    "def convert_split_G(arr):\n",
    "    arr = list(arr)\n",
    "    m = len(arr)\n",
    "    n = int(np.sqrt(m))\n",
    "    arr_new = [arr[n*i:n*(i+1)] for i in range(0,int(n))]    \n",
    "    #print(arr_new)\n",
    "    for x in range(0,n):\n",
    "        arr_new[x] = [np.array([0,0,0]) if i=='A' else i for i in arr_new[x]]\n",
    "        arr_new[x] = [np.array([0,0,0]) if i=='T' else i for i in arr_new[x]]\n",
    "        arr_new[x] = [np.array([0,0,0]) if i=='C' else i for i in arr_new[x]]\n",
    "        arr_new[x] = [np.array([1,0,255]) if i=='G' else i for i in arr_new[x]]\n",
    "    return arr_new"
   ]
  },
  {
   "cell_type": "code",
   "execution_count": 35,
   "metadata": {},
   "outputs": [],
   "source": [
    "def wholematrix(seq,ref):\n",
    "    sub1 = np.asarray(convert_split_A(seq)) & np.asarray(convert_split_A(ref))\n",
    "    sub2 = np.asarray(convert_split_T(seq)) & np.asarray(convert_split_T(ref))\n",
    "    sub3 = np.asarray(convert_split_C(seq)) & np.asarray(convert_split_C(ref))\n",
    "    sub4 = np.asarray(convert_split_G(seq)) & np.asarray(convert_split_G(ref))\n",
    "    sub = sub1 + sub2 +sub3 + sub4\n",
    "    return sub"
   ]
  },
  {
   "cell_type": "code",
   "execution_count": 36,
   "metadata": {},
   "outputs": [],
   "source": [
    "def flatten_array(array):\n",
    "    array1=np.ndarray.tolist(array.flatten())\n",
    "    new_array = []\n",
    "    j=0\n",
    "    for i in range(0,len(array1),3):\n",
    "        new_array.append(array1[i]+array1[i+1]+array1[i+2])\n",
    "    return new_array\n",
    "\n",
    "def convert_nD_back(arr1):\n",
    "    arr1_new = arr1\n",
    "    for x in range(len(arr1)):\n",
    "        arr1_new = ['N' if i== 0  else i for i in arr1_new]\n",
    "        #arr1_new = ['N' if i== 1  else i for i in arr1_new]\n",
    "        arr1_new = ['A' if i== 128 else i for i in arr1_new]\n",
    "        arr1_new = ['T' if i== 255 else i for i in arr1_new]\n",
    "        arr1_new = ['C' if i== 420 else i for i in arr1_new]\n",
    "        arr1_new = ['G' if i== 256 else i for i in arr1_new]\n",
    "    return arr1_new"
   ]
  },
  {
   "cell_type": "code",
   "execution_count": 37,
   "metadata": {},
   "outputs": [],
   "source": [
    "def finding_indexes(returned_seq):\n",
    "    s1 = convert_nD_back(flatten_array(returned_seq))\n",
    "    mm = s1.count('N')\n",
    "    print(\"Number of mutations: \",mm)\n",
    "    for i in range(0,len(s1)):\n",
    "        if s1[i]=='N':\n",
    "            print(\"Mutation found at index: \",i)\n",
    "    print(\"Percentage of mutations: \",(mm/len(s1))*100)"
   ]
  },
  {
   "cell_type": "code",
   "execution_count": 38,
   "metadata": {},
   "outputs": [
    {
     "data": {
      "text/plain": [
       "<matplotlib.image.AxesImage at 0x1d74c1bee50>"
      ]
     },
     "execution_count": 38,
     "metadata": {},
     "output_type": "execute_result"
    },
    {
     "data": {
      "image/png": "[encoded data removed]",
      "text/plain": [
       "<Figure size 432x288 with 1 Axes>"
      ]
     },
     "metadata": {
      "needs_background": "light"
     },
     "output_type": "display_data"
    }
   ],
   "source": [
    "str1 = ReferenceSequence\n",
    "# print(len(str1))\n",
    "nd_arr = np.asarray(convert_split_A(str1))\n",
    "# print(nd_arr.shape)\n",
    "plt.imshow(nd_arr)"
   ]
  },
  {
   "cell_type": "code",
   "execution_count": 39,
   "metadata": {},
   "outputs": [
    {
     "data": {
      "text/plain": [
       "<matplotlib.image.AxesImage at 0x1d74c21d130>"
      ]
     },
     "execution_count": 39,
     "metadata": {},
     "output_type": "execute_result"
    },
    {
     "data": {
      "image/png": "[encoded data removed]",
      "text/plain": [
       "<Figure size 432x288 with 1 Axes>"
      ]
     },
     "metadata": {
      "needs_background": "light"
     },
     "output_type": "display_data"
    }
   ],
   "source": [
    "# str1 = ReferenceSequence1\n",
    "# print(len(str1))\n",
    "nd_arr = np.asarray(convert_split_T(str1))\n",
    "# print(nd_arr.shape)\n",
    "plt.imshow(nd_arr)"
   ]
  },
  {
   "cell_type": "code",
   "execution_count": 40,
   "metadata": {},
   "outputs": [
    {
     "data": {
      "text/plain": [
       "<matplotlib.image.AxesImage at 0x1d74c271730>"
      ]
     },
     "execution_count": 40,
     "metadata": {},
     "output_type": "execute_result"
    },
    {
     "data": {
      "image/png": "[encoded data removed]",
      "text/plain": [
       "<Figure size 432x288 with 1 Axes>"
      ]
     },
     "metadata": {
      "needs_background": "light"
     },
     "output_type": "display_data"
    }
   ],
   "source": [
    "# str1 = ReferenceSequence1\n",
    "# print(len(str1))\n",
    "nd_arr = np.asarray(convert_split_C(str1))\n",
    "# print(nd_arr.shape)\n",
    "plt.imshow(nd_arr)"
   ]
  },
  {
   "cell_type": "code",
   "execution_count": 41,
   "metadata": {},
   "outputs": [
    {
     "data": {
      "text/plain": [
       "<matplotlib.image.AxesImage at 0x1d74c2c5bb0>"
      ]
     },
     "execution_count": 41,
     "metadata": {},
     "output_type": "execute_result"
    },
    {
     "data": {
      "image/png": "[encoded data removed]",
      "text/plain": [
       "<Figure size 432x288 with 1 Axes>"
      ]
     },
     "metadata": {
      "needs_background": "light"
     },
     "output_type": "display_data"
    }
   ],
   "source": [
    "# str1 = ReferenceSequence1\n",
    "# print(len(str1))\n",
    "nd_arr = np.asarray(convert_split_G(str1))\n",
    "# print(nd_arr.shape)\n",
    "plt.imshow(nd_arr)"
   ]
  },
  {
   "cell_type": "code",
   "execution_count": 42,
   "metadata": {},
   "outputs": [
    {
     "data": {
      "text/plain": [
       "<matplotlib.image.AxesImage at 0x1d74c328160>"
      ]
     },
     "execution_count": 42,
     "metadata": {},
     "output_type": "execute_result"
    },
    {
     "data": {
      "image/png": "[encoded data removed]",
      "text/plain": [
       "<Figure size 432x288 with 1 Axes>"
      ]
     },
     "metadata": {
      "needs_background": "light"
     },
     "output_type": "display_data"
    }
   ],
   "source": [
    "# str1 = ReferenceSequence1\n",
    "# print(len(str1))\n",
    "nd_arr = np.asarray(convert_nD(str1))\n",
    "# print(nd_arr.shape)\n",
    "plt.imshow(nd_arr)"
   ]
  },
  {
   "cell_type": "code",
   "execution_count": 43,
   "metadata": {},
   "outputs": [
    {
     "name": "stdout",
     "output_type": "stream",
     "text": [
      "420\n",
      "(20, 20, 3)\n"
     ]
    },
    {
     "data": {
      "text/plain": [
       "<matplotlib.image.AxesImage at 0x1d74c37aac0>"
      ]
     },
     "execution_count": 43,
     "metadata": {},
     "output_type": "execute_result"
    },
    {
     "data": {
      "image/png": "[encoded data removed]",
      "text/plain": [
       "<Figure size 432x288 with 1 Axes>"
      ]
     },
     "metadata": {
      "needs_background": "light"
     },
     "output_type": "display_data"
    }
   ],
   "source": [
    "str2 = MutatedSequence\n",
    "print(len(str2))\n",
    "nd_arr1 = np.asarray(convert_nD(str2))\n",
    "print(nd_arr1.shape)\n",
    "plt.imshow(nd_arr1)"
   ]
  },
  {
   "cell_type": "code",
   "execution_count": 44,
   "metadata": {},
   "outputs": [
    {
     "data": {
      "text/plain": [
       "<matplotlib.image.AxesImage at 0x1d74d39fd90>"
      ]
     },
     "execution_count": 44,
     "metadata": {},
     "output_type": "execute_result"
    },
    {
     "data": {
      "image/png": "[encoded data removed]",
      "text/plain": [
       "<Figure size 432x288 with 1 Axes>"
      ]
     },
     "metadata": {
      "needs_background": "light"
     },
     "output_type": "display_data"
    }
   ],
   "source": [
    "final=wholematrix(str1,str2)\n",
    "plt.imshow(final)"
   ]
  },
  {
   "cell_type": "code",
   "execution_count": 45,
   "metadata": {},
   "outputs": [
    {
     "name": "stdout",
     "output_type": "stream",
     "text": [
      "400\n"
     ]
    }
   ],
   "source": [
    "print(len(\"\".join(convert_nD_back(flatten_array(final)))))"
   ]
  },
  {
   "cell_type": "code",
   "execution_count": 46,
   "metadata": {},
   "outputs": [],
   "source": [
    "var = convert_nD_back(flatten_array(final))\n",
    "#\"\".join(convert_nD_back(flatten_array(final)))"
   ]
  },
  {
   "cell_type": "code",
   "execution_count": 47,
   "metadata": {},
   "outputs": [
    {
     "data": {
      "text/plain": [
       "36"
      ]
     },
     "execution_count": 47,
     "metadata": {},
     "output_type": "execute_result"
    }
   ],
   "source": [
    "var.count('N')"
   ]
  },
  {
   "cell_type": "code",
   "execution_count": 48,
   "metadata": {},
   "outputs": [
    {
     "name": "stdout",
     "output_type": "stream",
     "text": [
      "Number of mutations:  36\n",
      "Mutation found at index:  13\n",
      "Mutation found at index:  50\n",
      "Mutation found at index:  83\n",
      "Mutation found at index:  85\n",
      "Mutation found at index:  86\n",
      "Mutation found at index:  87\n",
      "Mutation found at index:  88\n",
      "Mutation found at index:  89\n",
      "Mutation found at index:  90\n",
      "Mutation found at index:  92\n",
      "Mutation found at index:  93\n",
      "Mutation found at index:  94\n",
      "Mutation found at index:  95\n",
      "Mutation found at index:  96\n",
      "Mutation found at index:  97\n",
      "Mutation found at index:  98\n",
      "Mutation found at index:  99\n",
      "Mutation found at index:  100\n",
      "Mutation found at index:  102\n",
      "Mutation found at index:  105\n",
      "Mutation found at index:  106\n",
      "Mutation found at index:  108\n",
      "Mutation found at index:  109\n",
      "Mutation found at index:  111\n",
      "Mutation found at index:  114\n",
      "Mutation found at index:  115\n",
      "Mutation found at index:  117\n",
      "Mutation found at index:  118\n",
      "Mutation found at index:  119\n",
      "Mutation found at index:  120\n",
      "Mutation found at index:  122\n",
      "Mutation found at index:  123\n",
      "Mutation found at index:  124\n",
      "Mutation found at index:  125\n",
      "Mutation found at index:  126\n",
      "Mutation found at index:  127\n",
      "Percentage of mutations:  9.0\n"
     ]
    }
   ],
   "source": [
    "mm=finding_indexes(final)"
   ]
  },
  {
   "cell_type": "code",
   "execution_count": 49,
   "metadata": {},
   "outputs": [
    {
     "data": {
      "text/plain": [
       "<matplotlib.image.AxesImage at 0x1d74d3f9fa0>"
      ]
     },
     "execution_count": 49,
     "metadata": {},
     "output_type": "execute_result"
    },
    {
     "data": {
      "image/png": "[encoded data removed]",
      "text/plain": [
       "<Figure size 432x288 with 1 Axes>"
      ]
     },
     "metadata": {
      "needs_background": "light"
     },
     "output_type": "display_data"
    }
   ],
   "source": [
    "Sequence = \"ATGC\"\n",
    "nd_arr1 = np.asarray(convert_nD(Sequence))\n",
    "plt.imshow(nd_arr1)"
   ]
  },
  {
   "cell_type": "code",
   "execution_count": null,
   "metadata": {},
   "outputs": [],
   "source": []
  },
  {
   "cell_type": "code",
   "execution_count": null,
   "metadata": {},
   "outputs": [],
   "source": []
  }
 ],
 "metadata": {
  "kernelspec": {
   "display_name": "Python 3",
   "language": "python",
   "name": "python3"
  },
  "language_info": {
   "codemirror_mode": {
    "name": "ipython",
    "version": 3
   },
   "file_extension": ".py",
   "mimetype": "text/x-python",
   "name": "python",
   "nbconvert_exporter": "python",
   "pygments_lexer": "ipython3",
   "version": "3.8.5"
  }
 },
 "nbformat": 4,
 "nbformat_minor": 5
}
