{
 "cells": [
  {
   "cell_type": "code",
   "execution_count": 3,
   "metadata": {},
   "outputs": [],
   "source": [
    "import warnings\n",
    "warnings.filterwarnings(\"ignore\")"
   ]
  },
  {
   "cell_type": "code",
   "execution_count": null,
   "metadata": {},
   "outputs": [],
   "source": [
    "import pandas as pd\n",
    "import seaborn as sns\n",
    "import matplotlib.pyplot as plt"
   ]
  },
  {
   "cell_type": "code",
   "execution_count": 4,
   "metadata": {},
   "outputs": [],
   "source": [
    "def remove(Sequence,CharacterArrays):\n",
    "    NewSequence = ''.join((filter(lambda i: i not in CharacterArrays, Sequence)))\n",
    "    return NewSequence"
   ]
  },
  {
   "cell_type": "code",
   "execution_count": 5,
   "metadata": {},
   "outputs": [],
   "source": [
    "TP53_sequence_path = r\"C:\\Users\\Teja Nikhil\\OneDrive\\Desktop\\ASSIGNMENTS AND PROJECTS\\SEM-2\\Semester-2 EndSem Projects\\Bio Endsem\\TP531.txt\"\n",
    "UnWantedCharacters = ['\\n', 'n','1','2','3','4','5','6','7','8','9','0', '']\n",
    "File1 =  open(TP53_sequence_path,'r')\n",
    "ReferenceSequence = File1.read()\n",
    "ReferenceSequence = remove(ReferenceSequence,UnWantedCharacters)"
   ]
  },
  {
   "cell_type": "code",
   "execution_count": 6,
   "metadata": {},
   "outputs": [],
   "source": [
    "ReferenceSequence = \"CTCAAAAGTCTAGAGCCACCGTCCAGGGAGCAGGTAGCTGCTGGGCTCCGGGGACACTTTGCGTTCGGGCTGGGAGCGTGCTTTCCACGACGGTGACACGCTTCCCTGGATTGGGTAAGCTCCTGACTGAACTTGATGAGTCCTCTCTGAGTCACGGGCTCTCGGCTCCGTGTATTTTCAGCTCGGGAAAATCGCTGGGGCTGGGGGTGGGGCAGTGGGGACTTAGCGAGTTTGGGGGTGAGTGGGATGGAAGCTTGGCTAGAGGGATCATCATAGGAGTTGCATTGTTGGGAGACCTGGGTGTAGATGATGGGGATGTTAGGACCATCCGAACTCAAAGTTGAACGCCTAGGCAGAGGAGTGGAGCTTTGGGGAACCTTGAGCCGGCCTAAAGCGTACTTCTTTGCACATCCACCCGGT\""
   ]
  },
  {
   "cell_type": "code",
   "execution_count": 169,
   "metadata": {},
   "outputs": [],
   "source": [
    "def replace(String, Position, Character):\n",
    "    NewString = \"\"\n",
    "    n = len(String)\n",
    "    for i in range(n):\n",
    "        if i!=Position:\n",
    "            NewString = NewString + String[i]\n",
    "        if i==Position:\n",
    "            NewString = NewString + Character\n",
    "    return NewString"
   ]
  },
  {
   "cell_type": "code",
   "execution_count": 170,
   "metadata": {},
   "outputs": [
    {
     "data": {
      "text/plain": [
       "'A'"
      ]
     },
     "execution_count": 170,
     "metadata": {},
     "output_type": "execute_result"
    }
   ],
   "source": [
    "ReferenceSequence1[5011]"
   ]
  },
  {
   "cell_type": "code",
   "execution_count": 171,
   "metadata": {},
   "outputs": [
    {
     "data": {
      "text/plain": [
       "6002"
      ]
     },
     "execution_count": 171,
     "metadata": {},
     "output_type": "execute_result"
    }
   ],
   "source": [
    "ReferenceSequence1 = replace(ReferenceSequence,4000,'A')\n",
    "ReferenceSequence1 = replace(ReferenceSequence1,5000,'T')\n",
    "ReferenceSequence1 = replace(ReferenceSequence1,5010,'GT')\n",
    "ReferenceSequence1 = replace(ReferenceSequence1,5020,'C')\n",
    "len(ReferenceSequence1)"
   ]
  },
  {
   "cell_type": "code",
   "execution_count": 7,
   "metadata": {},
   "outputs": [],
   "source": [
    "ReferenceSequence1 = \"CTCAAAAGTCTAGCGCCACCGTCCAGGGAGCAGGTAGCTGCTGGGCTCCGAGGACACTTTGCGTTCGGGCTGGGAGCGTGCTTCCACGACGGTGACACGCTTCCCTGGATTGGGTAAGCTCCTGACTCGAACTTGATGAGTCCTCTCTGAGTCACGGGCTCTCGGCTCCGTGTATTTTCAGCTCGGGAAAATCGCTGGGGCTGGGGGTGGGGCAGTGGGGACTTAGCGAGTTTGGGGGTGAGTGGGATGGAAGCTTGGCTAGAGGGATCATCATAGGAGTTGCATTGTTGGGAGACCTGGGTGTAGATGATGGGGATGTTAGGACCATCCGAACTCAAAGTTGAACGCCTAGGCAGAGGAGTGGAGCTTTGGGGAACCTTGAGCCGGCCTAAAGCGTACTTCTTTGCACATCCACCCGGT\""
   ]
  },
  {
   "cell_type": "code",
   "execution_count": 8,
   "metadata": {},
   "outputs": [],
   "source": [
    "Genome_Before_Mutation = ReferenceSequence\n",
    "Genome_After_Mutation = ReferenceSequence1"
   ]
  },
  {
   "cell_type": "markdown",
   "metadata": {},
   "source": [
    "## Calculating the total number of mutations"
   ]
  },
  {
   "cell_type": "code",
   "execution_count": 9,
   "metadata": {},
   "outputs": [],
   "source": [
    "def Leivenshtein_Distance(str1, str2):\n",
    "    m = len(str1)\n",
    "    n = len(str2)\n",
    "\n",
    "    \n",
    "    dp = [[0 for x in range(n + 1)] for x in range(m + 1)]\n",
    "    \n",
    "    for i in range(m + 1):\n",
    "        for j in range(n + 1):\n",
    "            if i == 0:\n",
    "                dp[i][j] = j    # Min. operations = j\n",
    "            elif j == 0:\n",
    "                dp[i][j] = i    # Min. operations = i\n",
    " \n",
    "            elif str1[i-1] == str2[j-1]:\n",
    "                dp[i][j] = dp[i-1][j-1]\n",
    "\n",
    "            else:\n",
    "                dp[i][j] = 1 + min(dp[i][j-1],        # Insert\n",
    "                                   dp[i-1][j],        # Remove\n",
    "                                   dp[i-1][j-1])    # Replace\n",
    "                \n",
    "    return dp[m][n]\n",
    "\n",
    "dp = Leivenshtein_Distance(ReferenceSequence, ReferenceSequence1)"
   ]
  },
  {
   "cell_type": "code",
   "execution_count": 10,
   "metadata": {},
   "outputs": [
    {
     "name": "stdout",
     "output_type": "stream",
     "text": [
      "Number of mutations in the genome: 4\n"
     ]
    }
   ],
   "source": [
    "print(f\"Number of mutations in the genome: {dp}\")"
   ]
  },
  {
   "cell_type": "markdown",
   "metadata": {},
   "source": [
    "## Classifying the mutation as Substitution or Insertion or Deletion"
   ]
  },
  {
   "cell_type": "code",
   "execution_count": 11,
   "metadata": {},
   "outputs": [],
   "source": [
    "def isSubstituted(actual,mutated):\n",
    "    if(actual==mutated):\n",
    "        return True\n",
    "    else:\n",
    "        return False"
   ]
  },
  {
   "cell_type": "code",
   "execution_count": 12,
   "metadata": {},
   "outputs": [],
   "source": [
    "def isInserted(actual,mutated):\n",
    "    if(actual==mutated):\n",
    "        return True\n",
    "    else:\n",
    "        return False"
   ]
  },
  {
   "cell_type": "code",
   "execution_count": 13,
   "metadata": {},
   "outputs": [],
   "source": [
    "def isDeleted(actual,mutated):\n",
    "    if(actual==mutated):\n",
    "        return True\n",
    "    else:\n",
    "        return False"
   ]
  },
  {
   "cell_type": "code",
   "execution_count": 14,
   "metadata": {},
   "outputs": [],
   "source": [
    "def detectMutation_type(actual, mutated):\n",
    "    \n",
    "    mutation_indexes = []\n",
    "#  --------Initializations---------\n",
    "    actual_length = len(actual)\n",
    "    mutated_length = len(mutated)\n",
    "    threshold = 4\n",
    "    trace_mutated_index = 0\n",
    "    trace_actual_index = 0\n",
    "    Number_of_Insertions = 0\n",
    "    Number_of_deletions = 0\n",
    "    list_insertion_indexes = []\n",
    "    list_deletion_indexes = []\n",
    "#  ------------------------------------\n",
    "\n",
    "#   -----------Looping---------------\n",
    "    while(True):\n",
    "        if(trace_actual_index==actual_length):\n",
    "            break;\n",
    "            \n",
    "        else: #####Run the program#####\n",
    "            if(trace_actual_index+1+threshold <= actual_length):\n",
    "              \n",
    "                if(actual[trace_actual_index] != mutated[trace_mutated_index]):\n",
    "                    if(isSubstituted(actual[trace_actual_index+1:trace_actual_index+1+threshold], mutated[trace_mutated_index+1:trace_mutated_index+1+threshold])):\n",
    "                        print(f\"Substitution mutation detected at index position {trace_actual_index}\")\n",
    "                        mutation_indexes.append([trace_actual_index,\"Substitution\"])\n",
    "                    elif(isInserted(actual[trace_actual_index:trace_actual_index+threshold], mutated[trace_mutated_index+1:trace_mutated_index+1+threshold])):\n",
    "                        print(f\"Insertion mutation detected at index position {trace_actual_index}\")\n",
    "                        mutation_indexes.append([trace_actual_index,\"Insertion\"])\n",
    "                        trace_mutated_index = trace_mutated_index + 1\n",
    "                        Number_of_Insertions = Number_of_Insertions + 1\n",
    "                    elif(isDeleted(actual[trace_actual_index+1:trace_actual_index+1+threshold], mutated[trace_mutated_index:trace_mutated_index+threshold])):\n",
    "                        print(f\"Deletion mutation detected at index position {trace_actual_index}\")\n",
    "                        mutation_indexes.append([trace_actual_index, \"Deletion\"])\n",
    "                        trace_actual_index = trace_actual_index + 1\n",
    "                        Number_of_deletions = Number_of_deletions + 1\n",
    "\n",
    "                \n",
    "                \n",
    "            elif(trace_actual_index+1+threshold > actual_length):\n",
    "                \n",
    "                if(trace_actual_index+2==actual_length): ### Mutation at detected last but one index of actual sequence ###\n",
    "                    \n",
    "                    if(actual[trace_actual_index] != mutated[trace_mutated_index]):\n",
    "                        if((trace_mutated_index!=mutated_length-1) and (isSubstituted(actual[trace_actual_index+1], mutated[trace_mutated_index+1]))):\n",
    "                            print(f\"Substitution mutation detected at index position {trace_actual_index}\")\n",
    "                            mutation_indexes.append([trace_actual_index,\"Substitution\"])\n",
    "                        elif(isInserted(actual[trace_actual_index:], mutated[trace_mutated_index+1:])):\n",
    "                            print(f\"Insertion mutation detected at index position {trace_actual_index}\")\n",
    "                            mutation_indexes.append([trace_actual_index,\"Insertion\"])\n",
    "                            trace_mutated_index = trace_mutated_index + 1\n",
    "                            Number_of_Insertions = Number_of_Insertions + 1\n",
    "                        elif(isDeleted(actual[trace_actual_index+1], mutated[trace_mutated_index])):\n",
    "                            print(f\"Deletion mutation detected at index position {trace_actual_index}\")\n",
    "                            mutation_indexes.append([trace_actual_index, \"Deletion\"])\n",
    "                            trace_actual_index = trace_actual_index + 1\n",
    "                            Number_of_deletions = Number_of_deletions + 1\n",
    "                        \n",
    "                    \n",
    "                \n",
    "                elif(trace_actual_index+1==actual_length): ### Mutation detected at last index of actual sequence ###\n",
    "                    if(trace_mutated_index==mutated_length):\n",
    "                        print(f\"Deletion mutation detected at index position {trace_actual_index}\")\n",
    "                        mutation_indexes.append([trace_actual_index, \"Deletion\"])\n",
    "                        trace_actual_index = trace_actual_index + 1\n",
    "                        Number_of_deletions = Number_of_deletions + 1\n",
    "                        break\n",
    "                    elif((actual[trace_actual_index] != mutated[trace_mutated_index])):\n",
    "                        if((trace_mutated_index== mutated_length-1)):\n",
    "                            if(trace_actual_index==actual_length-1):\n",
    "                                print(f\"Substitution mutation detected at index position {trace_actual_index}\")\n",
    "                                mutation_indexes.append([trace_actual_index,\"Substitution\"])\n",
    "                        elif(trace_mutated_index != mutated_length - 1):\n",
    "                            if(actual[trace_actual_index]==mutated[trace_mutated_index+1]):\n",
    "                                print(f\"Insertion mutation detected at index position {trace_actual_index}\")\n",
    "                                mutation_indexes.append([trace_actual_index,\"Insertion\"])\n",
    "                                trace_mutated_index = trace_mutated_index + 1\n",
    "                                Number_of_Insertions = Number_of_Insertions + 1\n",
    "                        elif(trace_mutated_index==mutated_length):\n",
    "                            if(trace_actual_index==actual_length-1):\n",
    "                                print(f\"Deletion mutation detected at index position {trace_actual_index}\")\n",
    "                                mutation_indexes.append([trace_actual_index, \"Deletion\"])\n",
    "                                trace_actual_index = trace_actual_index + 1\n",
    "                                Number_of_deletions = Number_of_deletions + 1\n",
    "                        \n",
    "                    \n",
    "        \n",
    "                else: # Other type of mutations\n",
    "                    if(actual[trace_actual_index] != mutated[trace_mutated_index]):\n",
    "                        if(isSubstituted(actual[trace_actual_index+1:], mutated[trace_mutated_index+1:])):\n",
    "                            print(f\"Substitution mutation detected at index position {trace_actual_index}\")\n",
    "                            mutation_indexes.append([trace_actual_index,\"Substitution\"])\n",
    "                        elif(isInserted(actual[trace_actual_index:], mutated[trace_mutated_index+1:])):\n",
    "                            mutation_indexes.append([trace_actual_index,\"Insertion\"])\n",
    "                            print(f\"Insertion mutation detected at index position {trace_actual_index}\")\n",
    "                            trace_mutated_index = trace_mutated_index + 1\n",
    "                            Number_of_Insertions = Number_of_Insertions + 1\n",
    "                        elif(isDeleted(actual[trace_actual_index+1:], mutated[trace_mutated_index:])):\n",
    "                            print(f\"Deletion mutation detected at index position {trace_actual_index}\")\n",
    "                            mutation_indexes.append([trace_actual_index, \"Deletion\"])\n",
    "                            trace_actual_index = trace_actual_index + 1\n",
    "                            Number_of_deletions = Number_of_deletions + 1\n",
    "                        \n",
    "        trace_actual_index = trace_actual_index + 1\n",
    "        trace_mutated_index = trace_mutated_index + 1\n",
    "    return mutation_indexes"
   ]
  },
  {
   "cell_type": "code",
   "execution_count": 15,
   "metadata": {},
   "outputs": [
    {
     "name": "stdout",
     "output_type": "stream",
     "text": [
      "Substitution mutation detected at index position 13\n",
      "Substitution mutation detected at index position 50\n",
      "Deletion mutation detected at index position 83\n",
      "Insertion mutation detected at index position 128\n"
     ]
    }
   ],
   "source": [
    "mutation_index = detectMutation_type(ReferenceSequence, ReferenceSequence1)"
   ]
  },
  {
   "cell_type": "code",
   "execution_count": 16,
   "metadata": {},
   "outputs": [
    {
     "ename": "NameError",
     "evalue": "name 'char_frequency' is not defined",
     "output_type": "error",
     "traceback": [
      "\u001b[1;31m---------------------------------------------------------------------------\u001b[0m",
      "\u001b[1;31mNameError\u001b[0m                                 Traceback (most recent call last)",
      "\u001b[1;32m<ipython-input-16-102683c36782>\u001b[0m in \u001b[0;36m<module>\u001b[1;34m\u001b[0m\n\u001b[1;32m----> 1\u001b[1;33m \u001b[0mprint\u001b[0m\u001b[1;33m(\u001b[0m\u001b[0mchar_frequency\u001b[0m\u001b[1;33m(\u001b[0m\u001b[0mReferenceSequence\u001b[0m\u001b[1;33m)\u001b[0m\u001b[1;33m)\u001b[0m\u001b[1;33m\u001b[0m\u001b[1;33m\u001b[0m\u001b[0m\n\u001b[0m\u001b[0;32m      2\u001b[0m \u001b[0mnucleotide_set2\u001b[0m \u001b[1;33m=\u001b[0m \u001b[0mchar_frequency\u001b[0m\u001b[1;33m(\u001b[0m\u001b[0mReferenceSequence\u001b[0m\u001b[1;33m)\u001b[0m\u001b[1;33m\u001b[0m\u001b[1;33m\u001b[0m\u001b[0m\n\u001b[0;32m      3\u001b[0m \u001b[1;33m\u001b[0m\u001b[0m\n\u001b[0;32m      4\u001b[0m \u001b[1;31m#Get amino acids dataset\u001b[0m\u001b[1;33m\u001b[0m\u001b[1;33m\u001b[0m\u001b[1;33m\u001b[0m\u001b[0m\n\u001b[0;32m      5\u001b[0m \u001b[0mhuman_gene\u001b[0m \u001b[1;33m=\u001b[0m \u001b[0mpd\u001b[0m\u001b[1;33m.\u001b[0m\u001b[0mDataFrame\u001b[0m\u001b[1;33m(\u001b[0m\u001b[0mdata\u001b[0m\u001b[1;33m=\u001b[0m\u001b[0mnucleotide_set2\u001b[0m\u001b[1;33m,\u001b[0m \u001b[0mindex\u001b[0m\u001b[1;33m=\u001b[0m\u001b[1;33m[\u001b[0m\u001b[1;36m0\u001b[0m\u001b[1;33m]\u001b[0m\u001b[1;33m)\u001b[0m\u001b[1;33m.\u001b[0m\u001b[0mT\u001b[0m\u001b[1;33m.\u001b[0m\u001b[0mreset_index\u001b[0m\u001b[1;33m(\u001b[0m\u001b[1;33m)\u001b[0m\u001b[1;33m\u001b[0m\u001b[1;33m\u001b[0m\u001b[0m\n",
      "\u001b[1;31mNameError\u001b[0m: name 'char_frequency' is not defined"
     ]
    }
   ],
   "source": [
    "print(char_frequency(ReferenceSequence))\n",
    "nucleotide_set2 = char_frequency(ReferenceSequence)\n",
    "\n",
    "#Get amino acids dataset\n",
    "human_gene = pd.DataFrame(data=nucleotide_set2, index=[0]).T.reset_index()\n",
    "human_gene = human_gene.rename(columns={0: 'Frequency', 'index': 'Cancer Nucleotides'})\n",
    "human_gene = human_gene.sort_values(by=['Frequency'], ascending=False)"
   ]
  },
  {
   "cell_type": "code",
   "execution_count": 137,
   "metadata": {},
   "outputs": [
    {
     "data": {
      "image/png": "[encoded data removed]",
      "text/plain": [
       "<Figure size 432x288 with 1 Axes>"
      ]
     },
     "metadata": {
      "needs_background": "light"
     },
     "output_type": "display_data"
    }
   ],
   "source": [
    "sns.barplot(human_gene.iloc[:,0], human_gene.iloc[:,1])\n",
    "plt.show()"
   ]
  },
  {
   "cell_type": "code",
   "execution_count": 138,
   "metadata": {},
   "outputs": [
    {
     "name": "stdout",
     "output_type": "stream",
     "text": [
      "{'C': 1356, 'T': 1556, 'A': 1573, 'G': 1517}\n"
     ]
    }
   ],
   "source": [
    "print(char_frequency(ReferenceSequence1))\n",
    "nucleotide_set1 = char_frequency(ReferenceSequence1)\n",
    "\n",
    "mutate_human = pd.DataFrame(data=nucleotide_set1, index=[0]).T.reset_index()\n",
    "mutate_human = mutate_human.rename(columns={0: 'Frequency', 'index': 'Human_mutated_Nucleotides'})\n",
    "mutate_human = mutate_human.sort_values(by=['Frequency'], ascending=False)"
   ]
  },
  {
   "cell_type": "code",
   "execution_count": 139,
   "metadata": {},
   "outputs": [
    {
     "data": {
      "image/png": "[encoded data removed]",
      "text/plain": [
       "<Figure size 432x288 with 1 Axes>"
      ]
     },
     "metadata": {
      "needs_background": "light"
     },
     "output_type": "display_data"
    }
   ],
   "source": [
    "sns.barplot(mutate_human.iloc[:,0], mutate_human.iloc[:,1])\n",
    "plt.show()"
   ]
  },
  {
   "cell_type": "code",
   "execution_count": 140,
   "metadata": {},
   "outputs": [],
   "source": [
    "def GC_content(Dictionary):\n",
    "    content = ((Dictionary[\"G\"] + Dictionary[\"C\"]) / (Dictionary[\"A\"] + Dictionary[\"T\"] + Dictionary[\"G\"] + Dictionary[\"C\"]))* 100\n",
    "    return content"
   ]
  },
  {
   "cell_type": "code",
   "execution_count": 141,
   "metadata": {},
   "outputs": [
    {
     "data": {
      "image/png": "[encoded data removed]",
      "text/plain": [
       "<Figure size 432x288 with 1 Axes>"
      ]
     },
     "metadata": {},
     "output_type": "display_data"
    }
   ],
   "source": [
    "colors = sns.color_palette('pastel')[0:5]\n",
    "plt.pie(human_gene.iloc[:,1], labels = human_gene.iloc[:,0], colors = colors, autopct='%.0f%%')\n",
    "plt.show()"
   ]
  },
  {
   "cell_type": "code",
   "execution_count": 142,
   "metadata": {},
   "outputs": [
    {
     "data": {
      "image/png": "[encoded data removed]",
      "text/plain": [
       "<Figure size 432x288 with 1 Axes>"
      ]
     },
     "metadata": {},
     "output_type": "display_data"
    }
   ],
   "source": [
    "plt.pie(mutate_human.iloc[:,1], labels = mutate_human.iloc[:,0], colors = colors, autopct='%.0f%%')\n",
    "plt.show()"
   ]
  },
  {
   "cell_type": "code",
   "execution_count": 143,
   "metadata": {},
   "outputs": [],
   "source": [
    "Dictionary = {\"Substitution\":0, \"Insertion\":1, \"Deletion\":2}\n",
    "for index,i in enumerate(mutation_index):\n",
    "    mutation_index[index][1] = Dictionary[mutation_index[index][1]] \n",
    "\n",
    "Num_Substitutions = 0\n",
    "Num_Insertions = 0\n",
    "Num_Deletions = 0\n",
    "\n",
    "for i in mutation_index:\n",
    "    if(i[1]==0):\n",
    "        Num_Substitutions = Num_Substitutions + 1\n",
    "    if(i[1]==1):\n",
    "        Num_Insertions = Num_Insertions + 1\n",
    "    if(i[1]==2):\n",
    "        Num_Deletions = Num_Deletions + 1\n",
    "\n",
    "Num_FrameShift = Num_Insertions + Num_Deletions"
   ]
  },
  {
   "cell_type": "code",
   "execution_count": 144,
   "metadata": {},
   "outputs": [
    {
     "data": {
      "text/plain": [
       "1"
      ]
     },
     "execution_count": 144,
     "metadata": {},
     "output_type": "execute_result"
    }
   ],
   "source": [
    "Num_FrameShift"
   ]
  },
  {
   "cell_type": "markdown",
   "metadata": {},
   "source": [
    "## Extracting only the top substitutions from all the mutations"
   ]
  },
  {
   "cell_type": "code",
   "execution_count": 145,
   "metadata": {},
   "outputs": [],
   "source": [
    "filtered_substitution = []\n",
    "for i in mutation_index:\n",
    "    if(i[1]==0):\n",
    "        filtered_substitution.append(i[0])\n",
    "    else:\n",
    "        break"
   ]
  },
  {
   "cell_type": "code",
   "execution_count": 146,
   "metadata": {},
   "outputs": [],
   "source": [
    "mutation_reader = []\n",
    "actual = Genome_Before_Mutation\n",
    "mutated = Genome_After_Mutation\n",
    "\n",
    "for i in filtered_substitution:\n",
    "    \n",
    "    if(i%3==0):\n",
    "        if(i+3 <= len(Genome_Before_Mutation)):\n",
    "            if(i+1==len(Genome_Before_Mutation)):\n",
    "                mutation_reader.append(f\"{actual[i]}--->{mutated[i]}\")\n",
    "            else:\n",
    "                mutation_reader.append((f\"{actual[i:i+3]}--->{mutated[i:i+3]}\"))\n",
    "        else:\n",
    "            mutation_reader.append(f\"{actual[i:]}--->{mutated[i:]}\")\n",
    "    \n",
    "    elif(i%3==1):\n",
    "        if(i+2 <= len(Genome_Before_Mutation)):\n",
    "            if(i+1==len(Genome_Before_Mutation)):\n",
    "                mutation_reader.append(f\"{actual[i]}--->{mutated[i]}\")\n",
    "            else:\n",
    "                mutation_reader.append((f\"{actual[i-1:i+2]}--->{mutated[i-1:i+2]}\"))\n",
    "        else:\n",
    "            mutation_reader.append(f\"{actual[i-1:]}--->{mutated[i-1:]}\")\n",
    "    \n",
    "    else:\n",
    "        mutation_reader.append(f\"{actual[i-2:i+1]}--->{mutated[i-2:i+1]}\")"
   ]
  },
  {
   "cell_type": "code",
   "execution_count": 147,
   "metadata": {},
   "outputs": [
    {
     "data": {
      "text/plain": [
       "['GGG--->GAG', 'CTG--->CTT']"
      ]
     },
     "execution_count": 147,
     "metadata": {},
     "output_type": "execute_result"
    }
   ],
   "source": [
    "mutation_reader"
   ]
  },
  {
   "cell_type": "markdown",
   "metadata": {},
   "source": [
    "## Classifying the substitution mutation as missense or non-sense or silence mutation"
   ]
  },
  {
   "cell_type": "code",
   "execution_count": 148,
   "metadata": {},
   "outputs": [],
   "source": [
    "import matplotlib.pyplot as plt\n",
    "import seaborn as sns"
   ]
  },
  {
   "cell_type": "code",
   "execution_count": 149,
   "metadata": {},
   "outputs": [],
   "source": [
    "A_codon = {\n",
    "        'ATA':'I', 'ATC':'I', 'ATT':'I', 'ATG':'M',\n",
    "        'ACA':'T', 'ACC':'T', 'ACG':'T', 'ACT':'T',\n",
    "        'AAC':'N', 'AAT':'N', 'AAA':'K', 'AAG':'K',\n",
    "        'AGC':'S', 'AGT':'S', 'AGA':'R', 'AGG':'R',\n",
    "}"
   ]
  },
  {
   "cell_type": "code",
   "execution_count": 150,
   "metadata": {},
   "outputs": [],
   "source": [
    "C_codon = {\n",
    "        'CTA':'L', 'CTC':'L', 'CTG':'L', 'CTT':'L',\n",
    "        'CCA':'P', 'CCC':'P', 'CCG':'P', 'CCT':'P',\n",
    "        'CAC':'H', 'CAT':'H', 'CAA':'Q', 'CAG':'Q',\n",
    "        'CGA':'R', 'CGC':'R', 'CGG':'R', 'CGT':'R',\n",
    "}"
   ]
  },
  {
   "cell_type": "code",
   "execution_count": 151,
   "metadata": {},
   "outputs": [],
   "source": [
    "G_codon = {\n",
    "        'GTA':'V', 'GTC':'V', 'GTG':'V', 'GTT':'V',\n",
    "        'GCA':'A', 'GCC':'A', 'GCG':'A', 'GCT':'A',\n",
    "        'GAC':'D', 'GAT':'D', 'GAA':'E', 'GAG':'E',\n",
    "        'GGA':'G', 'GGC':'G', 'GGG':'G', 'GGT':'G',\n",
    "}"
   ]
  },
  {
   "cell_type": "code",
   "execution_count": 152,
   "metadata": {},
   "outputs": [],
   "source": [
    "T_codon = {\n",
    "        'TCA':'S', 'TCC':'S', 'TCG':'S', 'TCT':'S',\n",
    "        'TTC':'F', 'TTT':'F', 'TTA':'L', 'TTG':'L',\n",
    "        'TAC':'Y', 'TAT':'Y', 'TAA':'_', 'TAG':'_',\n",
    "        'TGC':'C', 'TGT':'C', 'TGA':'_', 'TGG':'W',\n",
    "}"
   ]
  },
  {
   "cell_type": "code",
   "execution_count": 153,
   "metadata": {},
   "outputs": [],
   "source": [
    "codon_encoder = dict()\n",
    "codon_encoder.update(A_codon)\n",
    "codon_encoder.update(T_codon)\n",
    "codon_encoder.update(G_codon)\n",
    "codon_encoder.update(C_codon)"
   ]
  },
  {
   "cell_type": "code",
   "execution_count": 154,
   "metadata": {},
   "outputs": [
    {
     "data": {
      "text/plain": [
       "['GGG--->GAG', 'CTG--->CTT']"
      ]
     },
     "execution_count": 154,
     "metadata": {},
     "output_type": "execute_result"
    }
   ],
   "source": [
    "Extracted_codons = mutation_reader\n",
    "Extracted_codons"
   ]
  },
  {
   "cell_type": "code",
   "execution_count": 155,
   "metadata": {},
   "outputs": [],
   "source": [
    "Encoded_proteins = []\n",
    "for index,i in enumerate(Extracted_codons):\n",
    "    Encoded_proteins.append((codon_encoder[Extracted_codons[index][0:3]], codon_encoder[Extracted_codons[index][7:10]]))\n"
   ]
  },
  {
   "cell_type": "code",
   "execution_count": 156,
   "metadata": {},
   "outputs": [
    {
     "name": "stdout",
     "output_type": "stream",
     "text": [
      "Mutation at 4000 can cause cancer as it is a missense mutation.(High severity)\n",
      "Mutation at 5000 cannot be responsible for cancer as it is a silence mutation\n"
     ]
    }
   ],
   "source": [
    "for index, i in enumerate(Encoded_proteins):\n",
    "    if(i[0]!=i[1]):\n",
    "        if(Num_FrameShift > 0):\n",
    "            print(f\"Mutation at {mutation_index[index][0]} can cause cancer as it is a missense mutation.(High severity)\")\n",
    "        else:\n",
    "            print(f\"Mutation at {mutation_index[index][0]} can cause cancer as it is a missense mutation.(not much sever)\")\n",
    "    elif(i[1]==\"_\"):\n",
    "        print(f\"Mutation at {mutation_index[index][0]} is a nonsense mutation\")\n",
    "    else:\n",
    "        print(f\"Mutation at {mutation_index[index][0]} cannot be responsible for cancer as it is a silence mutation\")"
   ]
  }
 ],
 "metadata": {
  "kernelspec": {
   "display_name": "Python 3",
   "language": "python",
   "name": "python3"
  },
  "language_info": {
   "codemirror_mode": {
    "name": "ipython",
    "version": 3
   },
   "file_extension": ".py",
   "mimetype": "text/x-python",
   "name": "python",
   "nbconvert_exporter": "python",
   "pygments_lexer": "ipython3",
   "version": "3.8.5"
  }
 },
 "nbformat": 4,
 "nbformat_minor": 4
}
